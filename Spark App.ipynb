{
 "cells": [
  {
   "cell_type": "code",
   "execution_count": 3,
   "id": "e94b4c8e-6b61-4df5-9735-b133a7405f73",
   "metadata": {},
   "outputs": [],
   "source": [
    "# import the pakages \n",
    "from pyspark.sql import SparkSession\n",
    "from pyspark.sql.types import StructType, StructField, IntegerType, StringType\n",
    "import pyspark.sql.functions as func"
   ]
  },
  {
   "cell_type": "code",
   "execution_count": 4,
   "id": "99c47463-c202-4e27-a3a0-fc2d0d02ba81",
   "metadata": {},
   "outputs": [],
   "source": [
    "# create the SPark session\n",
    "spark = SparkSession.builder.appName(\"FirstApp\").getOrCreate()"
   ]
  },
  {
   "cell_type": "code",
   "execution_count": 5,
   "id": "ce3c43fd-b203-4453-aaf0-f091d1f35bc4",
   "metadata": {},
   "outputs": [],
   "source": [
    "# define schema for the DataFrame\n",
    "mySchema = StructType([\\\n",
    "                        StructField(\"UserID\",IntegerType(),True),\n",
    "                        StructField(\"name\",StringType(),True),\n",
    "                        StructField(\"age\",IntegerType(),True),\n",
    "                        StructField(\"friends\",IntegerType(),True),\n",
    "    \n",
    "                      ])"
   ]
  },
  {
   "cell_type": "code",
   "execution_count": 10,
   "id": "23ed9cb5-eebe-47a3-8699-a8ab25b2461f",
   "metadata": {},
   "outputs": [],
   "source": [
    "# create DataFrame on CSV file\n",
    "people = spark.read.format(\"csv\").schema(mySchema).load(\"fakefriends.csv\")\n"
   ]
  },
  {
   "cell_type": "code",
   "execution_count": 14,
   "id": "f080e4a5-0cf6-48f1-9c7a-6c8c4f268f1f",
   "metadata": {},
   "outputs": [],
   "source": [
    "# performing all of the transformation \n",
    "output = people.select(people.UserID,people.name,people.age,people.friends)\\\n",
    "        .where(people.age<30).withColumn('inter_ts',func.current_timestamp())\\\n",
    "        .orderBy(people.UserID)"
   ]
  },
  {
   "cell_type": "code",
   "execution_count": 15,
   "id": "047c3e6e-5f10-42a5-a2f2-b5fbbd77533c",
   "metadata": {},
   "outputs": [
    {
     "data": {
      "text/plain": [
       "112"
      ]
     },
     "execution_count": 15,
     "metadata": {},
     "output_type": "execute_result"
    }
   ],
   "source": [
    "# take the count of the o/p dataframe\n",
    "output.count()"
   ]
  },
  {
   "cell_type": "code",
   "execution_count": 16,
   "id": "7b6d2a21-f677-4e81-818e-0adb12687b43",
   "metadata": {},
   "outputs": [],
   "source": [
    "#create Temp view\n",
    "output.createOrReplaceTempView(\"peoples\")"
   ]
  },
  {
   "cell_type": "code",
   "execution_count": 17,
   "id": "636f197f-ecaf-486f-85df-3ce5c1aede20",
   "metadata": {},
   "outputs": [
    {
     "name": "stdout",
     "output_type": "stream",
     "text": [
      "+--------+---+-------+--------------------+\n",
      "|    name|age|friends|            inter_ts|\n",
      "+--------+---+-------+--------------------+\n",
      "|Jean-Luc| 26|      2|2025-02-15 08:45:...|\n",
      "|    Hugh| 27|    181|2025-02-15 08:45:...|\n",
      "|  Weyoun| 22|    323|2025-02-15 08:45:...|\n",
      "|   Miles| 19|    268|2025-02-15 08:45:...|\n",
      "|  Julian| 25|      1|2025-02-15 08:45:...|\n",
      "|     Ben| 21|    445|2025-02-15 08:45:...|\n",
      "|  Julian| 22|    100|2025-02-15 08:45:...|\n",
      "|     Nog| 26|    281|2025-02-15 08:45:...|\n",
      "| Beverly| 27|    305|2025-02-15 08:45:...|\n",
      "|    Morn| 25|     96|2025-02-15 08:45:...|\n",
      "|   Brunt| 24|     49|2025-02-15 08:45:...|\n",
      "|     Nog| 20|      1|2025-02-15 08:45:...|\n",
      "| Beverly| 19|    269|2025-02-15 08:45:...|\n",
      "|   Brunt| 19|      5|2025-02-15 08:45:...|\n",
      "|  Geordi| 20|    100|2025-02-15 08:45:...|\n",
      "|  Geordi| 21|    477|2025-02-15 08:45:...|\n",
      "|  Kasidy| 22|    179|2025-02-15 08:45:...|\n",
      "|   Brunt| 20|    384|2025-02-15 08:45:...|\n",
      "|     Ben| 28|    311|2025-02-15 08:45:...|\n",
      "|    Worf| 24|    492|2025-02-15 08:45:...|\n",
      "+--------+---+-------+--------------------+\n",
      "only showing top 20 rows\n",
      "\n"
     ]
    }
   ],
   "source": [
    "spark.sql(\"select name,age,friends,inter_ts from peoples\").show()"
   ]
  },
  {
   "cell_type": "code",
   "execution_count": null,
   "id": "a6943e2d-c6b8-4f3f-96ba-428449779d6b",
   "metadata": {},
   "outputs": [],
   "source": []
  }
 ],
 "metadata": {
  "kernelspec": {
   "display_name": "Python 3 (ipykernel)",
   "language": "python",
   "name": "python3"
  },
  "language_info": {
   "codemirror_mode": {
    "name": "ipython",
    "version": 3
   },
   "file_extension": ".py",
   "mimetype": "text/x-python",
   "name": "python",
   "nbconvert_exporter": "python",
   "pygments_lexer": "ipython3",
   "version": "3.12.7"
  }
 },
 "nbformat": 4,
 "nbformat_minor": 5
}
